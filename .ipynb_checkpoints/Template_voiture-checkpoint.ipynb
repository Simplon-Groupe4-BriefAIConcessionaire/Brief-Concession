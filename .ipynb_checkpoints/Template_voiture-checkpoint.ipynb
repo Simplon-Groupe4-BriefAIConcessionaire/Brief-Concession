{
 "cells": [
  {
   "cell_type": "markdown",
   "id": "2e645b5d",
   "metadata": {},
   "source": [
    "I.IMPORTATION des librairies"
   ]
  },
  {
   "cell_type": "code",
   "execution_count": 1,
   "id": "5a276ef5",
   "metadata": {},
   "outputs": [],
   "source": [
    "import numpy as np \n",
    "import matplotlib.pyplot as plt \n",
    "import pandas as pd \n",
    "import scikitplot as skplt\n",
    "from sklearn import metrics\n",
    "import seaborn as sns\n",
    "from matplotlib.ticker import MultipleLocator, FormatStrFormatter\n",
    "%matplotlib inline\n",
    "from sklearn.model_selection import train_test_split\n",
    "from sklearn.tree import DecisionTreeClassifier\n",
    "from sklearn.tree import plot_tree\n",
    "from sklearn.tree import export_text\n",
    "#xlrd is a library for reading data and formatting information from Excel files in the historical .xls format.\n",
    "import xlrd"
   ]
  },
  {
   "cell_type": "markdown",
   "id": "60da9fc1",
   "metadata": {},
   "source": [
    "II.CHARGEMENT d'un dataset"
   ]
  },
  {
   "cell_type": "code",
   "execution_count": 2,
   "id": "d86503fb",
   "metadata": {},
   "outputs": [],
   "source": [
    "\n",
    "\n",
    "#en csv\n",
    "\n",
    "df = pd.read_csv('voitures.csv')\n",
    "\n",
    "\n"
   ]
  },
  {
   "cell_type": "markdown",
   "id": "ab729681",
   "metadata": {},
   "source": [
    "IV.EXPLORATION"
   ]
  },
  {
   "cell_type": "code",
   "execution_count": 3,
   "id": "9726c0a7",
   "metadata": {},
   "outputs": [
    {
     "name": "stdout",
     "output_type": "stream",
     "text": [
      "<class 'pandas.core.frame.DataFrame'>\n",
      "RangeIndex: 495 entries, 0 to 494\n",
      "Data columns (total 11 columns):\n",
      " #   Column        Non-Null Count  Dtype  \n",
      "---  ------        --------------  -----  \n",
      " 0   Version       489 non-null    object \n",
      " 1   Prix          495 non-null    int64  \n",
      " 2   Date          495 non-null    object \n",
      " 3   Km            493 non-null    float64\n",
      " 4   Energie       493 non-null    object \n",
      " 5   Emission      387 non-null    float64\n",
      " 6   Consommation  380 non-null    float64\n",
      " 7   Boitier       495 non-null    object \n",
      " 8   Portes        494 non-null    object \n",
      " 9   Puissance     485 non-null    float64\n",
      " 10  Places        491 non-null    float64\n",
      "dtypes: float64(5), int64(1), object(5)\n",
      "memory usage: 42.7+ KB\n"
     ]
    }
   ],
   "source": [
    "df.info()"
   ]
  },
  {
   "cell_type": "markdown",
   "id": "19ed3d46",
   "metadata": {},
   "source": [
    "Emission et consommation comportent beaucoup de valeurs nulles, il faudra peut-être les supprimer ou les remplacer."
   ]
  },
  {
   "cell_type": "code",
   "execution_count": 4,
   "id": "72897af4",
   "metadata": {},
   "outputs": [
    {
     "data": {
      "text/plain": [
       "(495, 11)"
      ]
     },
     "execution_count": 4,
     "metadata": {},
     "output_type": "execute_result"
    }
   ],
   "source": [
    "df.shape"
   ]
  },
  {
   "cell_type": "code",
   "execution_count": 5,
   "id": "369e4820",
   "metadata": {},
   "outputs": [
    {
     "data": {
      "text/html": [
       "<div>\n",
       "<style scoped>\n",
       "    .dataframe tbody tr th:only-of-type {\n",
       "        vertical-align: middle;\n",
       "    }\n",
       "\n",
       "    .dataframe tbody tr th {\n",
       "        vertical-align: top;\n",
       "    }\n",
       "\n",
       "    .dataframe thead th {\n",
       "        text-align: right;\n",
       "    }\n",
       "</style>\n",
       "<table border=\"1\" class=\"dataframe\">\n",
       "  <thead>\n",
       "    <tr style=\"text-align: right;\">\n",
       "      <th></th>\n",
       "      <th>Version</th>\n",
       "      <th>Prix</th>\n",
       "      <th>Date</th>\n",
       "      <th>Km</th>\n",
       "      <th>Energie</th>\n",
       "      <th>Emission</th>\n",
       "      <th>Consommation</th>\n",
       "      <th>Boitier</th>\n",
       "      <th>Portes</th>\n",
       "      <th>Puissance</th>\n",
       "      <th>Places</th>\n",
       "    </tr>\n",
       "  </thead>\n",
       "  <tbody>\n",
       "    <tr>\n",
       "      <th>0</th>\n",
       "      <td>Tiguan 2.0 TDI 150 DSG7 4Motion Black R-Line</td>\n",
       "      <td>29500</td>\n",
       "      <td>Juillet 2019</td>\n",
       "      <td>24000.0</td>\n",
       "      <td>Diesel</td>\n",
       "      <td>133.0</td>\n",
       "      <td>NaN</td>\n",
       "      <td>Automatique</td>\n",
       "      <td>4 portes avec hayon</td>\n",
       "      <td>8.0</td>\n",
       "      <td>5.0</td>\n",
       "    </tr>\n",
       "    <tr>\n",
       "      <th>1</th>\n",
       "      <td>Laguna 1.9 DTI RTE</td>\n",
       "      <td>2000</td>\n",
       "      <td>Janvier 1999</td>\n",
       "      <td>320000.0</td>\n",
       "      <td>Diesel</td>\n",
       "      <td>NaN</td>\n",
       "      <td>5.5</td>\n",
       "      <td>Manuelle</td>\n",
       "      <td>4 portes avec hayon</td>\n",
       "      <td>6.0</td>\n",
       "      <td>5.0</td>\n",
       "    </tr>\n",
       "    <tr>\n",
       "      <th>2</th>\n",
       "      <td>2 CV 6 Special</td>\n",
       "      <td>12000</td>\n",
       "      <td>Mars 1986</td>\n",
       "      <td>96700.0</td>\n",
       "      <td>Essence</td>\n",
       "      <td>NaN</td>\n",
       "      <td>NaN</td>\n",
       "      <td>Manuelle</td>\n",
       "      <td>4 portes</td>\n",
       "      <td>3.0</td>\n",
       "      <td>5.0</td>\n",
       "    </tr>\n",
       "    <tr>\n",
       "      <th>3</th>\n",
       "      <td>Titanium 1.0 ecoboost mhev 125ch</td>\n",
       "      <td>22850</td>\n",
       "      <td>2021</td>\n",
       "      <td>10.0</td>\n",
       "      <td>NaN</td>\n",
       "      <td>NaN</td>\n",
       "      <td>NaN</td>\n",
       "      <td>Manuelle</td>\n",
       "      <td>4 portes avec hayon</td>\n",
       "      <td>6.0</td>\n",
       "      <td>NaN</td>\n",
       "    </tr>\n",
       "    <tr>\n",
       "      <th>4</th>\n",
       "      <td>Coccinelle Cabriolet 2.0 TDI 150 BMT Club</td>\n",
       "      <td>18100</td>\n",
       "      <td>Mars 2015</td>\n",
       "      <td>92600.0</td>\n",
       "      <td>Diesel</td>\n",
       "      <td>118.0</td>\n",
       "      <td>4.6</td>\n",
       "      <td>Manuelle</td>\n",
       "      <td>2 portes</td>\n",
       "      <td>8.0</td>\n",
       "      <td>4.0</td>\n",
       "    </tr>\n",
       "  </tbody>\n",
       "</table>\n",
       "</div>"
      ],
      "text/plain": [
       "                                        Version   Prix          Date  \\\n",
       "0  Tiguan 2.0 TDI 150 DSG7 4Motion Black R-Line  29500  Juillet 2019   \n",
       "1                            Laguna 1.9 DTI RTE   2000  Janvier 1999   \n",
       "2                                2 CV 6 Special  12000     Mars 1986   \n",
       "3              Titanium 1.0 ecoboost mhev 125ch  22850          2021   \n",
       "4     Coccinelle Cabriolet 2.0 TDI 150 BMT Club  18100     Mars 2015   \n",
       "\n",
       "         Km  Energie  Emission  Consommation      Boitier  \\\n",
       "0   24000.0   Diesel     133.0           NaN  Automatique   \n",
       "1  320000.0   Diesel       NaN           5.5     Manuelle   \n",
       "2   96700.0  Essence       NaN           NaN     Manuelle   \n",
       "3      10.0      NaN       NaN           NaN     Manuelle   \n",
       "4   92600.0   Diesel     118.0           4.6     Manuelle   \n",
       "\n",
       "                Portes  Puissance  Places  \n",
       "0  4 portes avec hayon        8.0     5.0  \n",
       "1  4 portes avec hayon        6.0     5.0  \n",
       "2             4 portes        3.0     5.0  \n",
       "3  4 portes avec hayon        6.0     NaN  \n",
       "4             2 portes        8.0     4.0  "
      ]
     },
     "execution_count": 5,
     "metadata": {},
     "output_type": "execute_result"
    }
   ],
   "source": [
    "df.head()"
   ]
  },
  {
   "cell_type": "code",
   "execution_count": 6,
   "id": "6e156821",
   "metadata": {},
   "outputs": [
    {
     "data": {
      "text/html": [
       "<div>\n",
       "<style scoped>\n",
       "    .dataframe tbody tr th:only-of-type {\n",
       "        vertical-align: middle;\n",
       "    }\n",
       "\n",
       "    .dataframe tbody tr th {\n",
       "        vertical-align: top;\n",
       "    }\n",
       "\n",
       "    .dataframe thead th {\n",
       "        text-align: right;\n",
       "    }\n",
       "</style>\n",
       "<table border=\"1\" class=\"dataframe\">\n",
       "  <thead>\n",
       "    <tr style=\"text-align: right;\">\n",
       "      <th></th>\n",
       "      <th>Version</th>\n",
       "      <th>Prix</th>\n",
       "      <th>Date</th>\n",
       "      <th>Km</th>\n",
       "      <th>Energie</th>\n",
       "      <th>Emission</th>\n",
       "      <th>Consommation</th>\n",
       "      <th>Boitier</th>\n",
       "      <th>Portes</th>\n",
       "      <th>Puissance</th>\n",
       "      <th>Places</th>\n",
       "    </tr>\n",
       "  </thead>\n",
       "  <tbody>\n",
       "    <tr>\n",
       "      <th>490</th>\n",
       "      <td>3008 2.0 HDi 150ch FAP Allure</td>\n",
       "      <td>9500</td>\n",
       "      <td>Décembre 2013</td>\n",
       "      <td>134000.0</td>\n",
       "      <td>Diesel</td>\n",
       "      <td>139.0</td>\n",
       "      <td>5.3</td>\n",
       "      <td>Manuelle</td>\n",
       "      <td>4 portes avec hayon</td>\n",
       "      <td>8.0</td>\n",
       "      <td>5.0</td>\n",
       "    </tr>\n",
       "    <tr>\n",
       "      <th>491</th>\n",
       "      <td>25 TX Courchevel</td>\n",
       "      <td>5000</td>\n",
       "      <td>Octobre 1991</td>\n",
       "      <td>210310.0</td>\n",
       "      <td>Essence</td>\n",
       "      <td>NaN</td>\n",
       "      <td>NaN</td>\n",
       "      <td>Manuelle</td>\n",
       "      <td>4 portes avec hayon</td>\n",
       "      <td>9.0</td>\n",
       "      <td>5.0</td>\n",
       "    </tr>\n",
       "    <tr>\n",
       "      <th>492</th>\n",
       "      <td>Mini One 102 ch</td>\n",
       "      <td>16900</td>\n",
       "      <td>Août 2017</td>\n",
       "      <td>38000.0</td>\n",
       "      <td>Essence</td>\n",
       "      <td>109.0</td>\n",
       "      <td>4.7</td>\n",
       "      <td>Manuelle</td>\n",
       "      <td>2 portes avec hayon</td>\n",
       "      <td>5.0</td>\n",
       "      <td>4.0</td>\n",
       "    </tr>\n",
       "    <tr>\n",
       "      <th>493</th>\n",
       "      <td>Classe A 180 CDI BlueEFFICIENCY Inspiration</td>\n",
       "      <td>14700</td>\n",
       "      <td>Juin 2013</td>\n",
       "      <td>71400.0</td>\n",
       "      <td>Diesel</td>\n",
       "      <td>107.0</td>\n",
       "      <td>4.1</td>\n",
       "      <td>Manuelle</td>\n",
       "      <td>4 portes avec hayon</td>\n",
       "      <td>5.0</td>\n",
       "      <td>5.0</td>\n",
       "    </tr>\n",
       "    <tr>\n",
       "      <th>494</th>\n",
       "      <td>Arkana E-Tech 145 Business</td>\n",
       "      <td>29990</td>\n",
       "      <td>Septembre 2021</td>\n",
       "      <td>4000.0</td>\n",
       "      <td>Hybride</td>\n",
       "      <td>NaN</td>\n",
       "      <td>NaN</td>\n",
       "      <td>Automatique</td>\n",
       "      <td>4 portes avec hayon</td>\n",
       "      <td>5.0</td>\n",
       "      <td>5.0</td>\n",
       "    </tr>\n",
       "  </tbody>\n",
       "</table>\n",
       "</div>"
      ],
      "text/plain": [
       "                                         Version   Prix            Date  \\\n",
       "490                3008 2.0 HDi 150ch FAP Allure   9500   Décembre 2013   \n",
       "491                             25 TX Courchevel   5000    Octobre 1991   \n",
       "492                              Mini One 102 ch  16900       Août 2017   \n",
       "493  Classe A 180 CDI BlueEFFICIENCY Inspiration  14700       Juin 2013   \n",
       "494                   Arkana E-Tech 145 Business  29990  Septembre 2021   \n",
       "\n",
       "           Km  Energie  Emission  Consommation      Boitier  \\\n",
       "490  134000.0   Diesel     139.0           5.3     Manuelle   \n",
       "491  210310.0  Essence       NaN           NaN     Manuelle   \n",
       "492   38000.0  Essence     109.0           4.7     Manuelle   \n",
       "493   71400.0   Diesel     107.0           4.1     Manuelle   \n",
       "494    4000.0  Hybride       NaN           NaN  Automatique   \n",
       "\n",
       "                  Portes  Puissance  Places  \n",
       "490  4 portes avec hayon        8.0     5.0  \n",
       "491  4 portes avec hayon        9.0     5.0  \n",
       "492  2 portes avec hayon        5.0     4.0  \n",
       "493  4 portes avec hayon        5.0     5.0  \n",
       "494  4 portes avec hayon        5.0     5.0  "
      ]
     },
     "execution_count": 6,
     "metadata": {},
     "output_type": "execute_result"
    }
   ],
   "source": [
    "# Afficher les cinq dernières lignes\n",
    "df.tail()"
   ]
  },
  {
   "cell_type": "code",
   "execution_count": 7,
   "id": "7ec93d8f",
   "metadata": {},
   "outputs": [
    {
     "data": {
      "text/plain": [
       "<AxesSubplot:ylabel='None'>"
      ]
     },
     "execution_count": 7,
     "metadata": {},
     "output_type": "execute_result"
    },
    {
     "data": {
      "image/png": "[encoded data removed]",
      "text/plain": [
       "<Figure size 432x288 with 1 Axes>"
      ]
     },
     "metadata": {},
     "output_type": "display_data"
    }
   ],
   "source": [
    "#Répartition des valeurs selon les types\n",
    "\n",
    "df.dtypes.value_counts().plot.pie()"
   ]
  },
  {
   "cell_type": "markdown",
   "id": "0bc0882a",
   "metadata": {},
   "source": [
    "Nous avons beaucoup d'objets qu'il faudra encoder."
   ]
  },
  {
   "cell_type": "code",
   "execution_count": 8,
   "id": "dbc8326b",
   "metadata": {},
   "outputs": [
    {
     "data": {
      "text/html": [
       "<div>\n",
       "<style scoped>\n",
       "    .dataframe tbody tr th:only-of-type {\n",
       "        vertical-align: middle;\n",
       "    }\n",
       "\n",
       "    .dataframe tbody tr th {\n",
       "        vertical-align: top;\n",
       "    }\n",
       "\n",
       "    .dataframe thead th {\n",
       "        text-align: right;\n",
       "    }\n",
       "</style>\n",
       "<table border=\"1\" class=\"dataframe\">\n",
       "  <thead>\n",
       "    <tr style=\"text-align: right;\">\n",
       "      <th></th>\n",
       "      <th>Prix</th>\n",
       "      <th>Km</th>\n",
       "      <th>Emission</th>\n",
       "      <th>Consommation</th>\n",
       "      <th>Puissance</th>\n",
       "      <th>Places</th>\n",
       "    </tr>\n",
       "  </thead>\n",
       "  <tbody>\n",
       "    <tr>\n",
       "      <th>count</th>\n",
       "      <td>495.000000</td>\n",
       "      <td>493.000000</td>\n",
       "      <td>387.000000</td>\n",
       "      <td>380.000000</td>\n",
       "      <td>485.000000</td>\n",
       "      <td>491.000000</td>\n",
       "    </tr>\n",
       "    <tr>\n",
       "      <th>mean</th>\n",
       "      <td>12971.945455</td>\n",
       "      <td>109849.805274</td>\n",
       "      <td>139.653747</td>\n",
       "      <td>5.731579</td>\n",
       "      <td>7.626804</td>\n",
       "      <td>4.820774</td>\n",
       "    </tr>\n",
       "    <tr>\n",
       "      <th>std</th>\n",
       "      <td>10739.520771</td>\n",
       "      <td>83322.204624</td>\n",
       "      <td>45.779648</td>\n",
       "      <td>2.020803</td>\n",
       "      <td>4.935839</td>\n",
       "      <td>0.782758</td>\n",
       "    </tr>\n",
       "    <tr>\n",
       "      <th>min</th>\n",
       "      <td>1.000000</td>\n",
       "      <td>10.000000</td>\n",
       "      <td>32.000000</td>\n",
       "      <td>3.000000</td>\n",
       "      <td>3.000000</td>\n",
       "      <td>2.000000</td>\n",
       "    </tr>\n",
       "    <tr>\n",
       "      <th>25%</th>\n",
       "      <td>5099.500000</td>\n",
       "      <td>39000.000000</td>\n",
       "      <td>113.000000</td>\n",
       "      <td>4.500000</td>\n",
       "      <td>5.000000</td>\n",
       "      <td>5.000000</td>\n",
       "    </tr>\n",
       "    <tr>\n",
       "      <th>50%</th>\n",
       "      <td>10100.000000</td>\n",
       "      <td>98200.000000</td>\n",
       "      <td>128.000000</td>\n",
       "      <td>5.200000</td>\n",
       "      <td>6.000000</td>\n",
       "      <td>5.000000</td>\n",
       "    </tr>\n",
       "    <tr>\n",
       "      <th>75%</th>\n",
       "      <td>17845.000000</td>\n",
       "      <td>165400.000000</td>\n",
       "      <td>154.000000</td>\n",
       "      <td>6.300000</td>\n",
       "      <td>8.000000</td>\n",
       "      <td>5.000000</td>\n",
       "    </tr>\n",
       "    <tr>\n",
       "      <th>max</th>\n",
       "      <td>85000.000000</td>\n",
       "      <td>429000.000000</td>\n",
       "      <td>489.000000</td>\n",
       "      <td>21.000000</td>\n",
       "      <td>46.000000</td>\n",
       "      <td>9.000000</td>\n",
       "    </tr>\n",
       "  </tbody>\n",
       "</table>\n",
       "</div>"
      ],
      "text/plain": [
       "               Prix             Km    Emission  Consommation   Puissance  \\\n",
       "count    495.000000     493.000000  387.000000    380.000000  485.000000   \n",
       "mean   12971.945455  109849.805274  139.653747      5.731579    7.626804   \n",
       "std    10739.520771   83322.204624   45.779648      2.020803    4.935839   \n",
       "min        1.000000      10.000000   32.000000      3.000000    3.000000   \n",
       "25%     5099.500000   39000.000000  113.000000      4.500000    5.000000   \n",
       "50%    10100.000000   98200.000000  128.000000      5.200000    6.000000   \n",
       "75%    17845.000000  165400.000000  154.000000      6.300000    8.000000   \n",
       "max    85000.000000  429000.000000  489.000000     21.000000   46.000000   \n",
       "\n",
       "           Places  \n",
       "count  491.000000  \n",
       "mean     4.820774  \n",
       "std      0.782758  \n",
       "min      2.000000  \n",
       "25%      5.000000  \n",
       "50%      5.000000  \n",
       "75%      5.000000  \n",
       "max      9.000000  "
      ]
     },
     "execution_count": 8,
     "metadata": {},
     "output_type": "execute_result"
    }
   ],
   "source": [
    "# La fonction .describe() nous donne une vision d'ensemble (statistiques) pour chaque colonne\n",
    "df.describe()"
   ]
  },
  {
   "cell_type": "markdown",
   "id": "1d5d0c0d",
   "metadata": {},
   "source": [
    "count: compte le nombre de valeurs non nulles dans le dataset. \n",
    "mean: valeur moyenne.\n",
    "std: 'standard deviation', écart type, indicateur statistique mesurant la dispersion des valeurs d'un échantillon autour de la moyenne.\n",
    "min: valeur minimum.\n",
    "25%: premier quartile 1/4( ou centile 25%) représente 25% des valeurs de l'échantillon. \n",
    "50%: La médiane est la valeur centrale d'une série statistique dont les valeurs observées ont été ordonnées.\n",
    "75%: troisième quartile 3/4 (ou centile 75%) représente 75% des valeurs de l'échantillon.\n",
    "max: valeur maximum."
   ]
  },
  {
   "cell_type": "code",
   "execution_count": 9,
   "id": "afc31207",
   "metadata": {},
   "outputs": [
    {
     "data": {
      "image/png": "[encoded data removed]",
      "text/plain": [
       "<Figure size 432x288 with 2 Axes>"
      ]
     },
     "metadata": {
      "needs_background": "light"
     },
     "output_type": "display_data"
    }
   ],
   "source": [
    "#Faire une matrice de corrélation et heatmap\n",
    "##Pour lire la matrice on considère que les extrêmes -1 et 1 sont les plus proches d'une corrélation\n",
    "\n",
    "from seaborn import heatmap\n",
    "correlation_mat = df.corr()\n",
    "\n",
    "sns.heatmap(correlation_mat, annot = True)\n",
    "\n",
    "plt.show()"
   ]
  },
  {
   "cell_type": "markdown",
   "id": "75a28e7f",
   "metadata": {},
   "source": [
    "Forte corrélation entre le prix et le nombre de km (prix baisse en fonction de l'augmentation des kilomètres).\n",
    "L'emission de CO2 augmente en fonction de la consommation, ce qui parait logique.\n",
    "La consommation augmente en fonction de la puissance.\n",
    "\n",
    "On ne peut pas voir les corrélations avec les objets. Il faudrait standardiser et refaire la matrice."
   ]
  },
  {
   "cell_type": "markdown",
   "id": "cdbc949e",
   "metadata": {},
   "source": [
    "V.TRAITEMENT des données manquantes"
   ]
  },
  {
   "cell_type": "code",
   "execution_count": 10,
   "id": "5605f7f9",
   "metadata": {},
   "outputs": [
    {
     "data": {
      "text/plain": [
       "Version           6\n",
       "Prix              0\n",
       "Date              0\n",
       "Km                2\n",
       "Energie           2\n",
       "Emission        108\n",
       "Consommation    115\n",
       "Boitier           0\n",
       "Portes            1\n",
       "Puissance        10\n",
       "Places            4\n",
       "dtype: int64"
      ]
     },
     "execution_count": 10,
     "metadata": {},
     "output_type": "execute_result"
    }
   ],
   "source": [
    "#Trouver valeurs manquantes, nulles ou qui pourraient poser problème\n",
    "##Manquantes\n",
    "df.isna().sum()"
   ]
  },
  {
   "cell_type": "code",
   "execution_count": 11,
   "id": "c0c671bd",
   "metadata": {},
   "outputs": [],
   "source": [
    "#J'enlève les colonnes que je ne vais pas utiliser car elles ont trop de valeurs manquantes et ce ne serait pas intéressant de les remplacer\n",
    "#par une valeur moyenne ou médiane\n",
    "\n",
    "df=df[['Prix','Date','Km','Energie','Portes','Puissance','Places']]"
   ]
  },
  {
   "cell_type": "code",
   "execution_count": 12,
   "id": "01da4870",
   "metadata": {},
   "outputs": [],
   "source": [
    "#Je supprime les valeurs manquantes\n",
    "df=df.dropna()"
   ]
  },
  {
   "cell_type": "code",
   "execution_count": 13,
   "id": "7372b204",
   "metadata": {},
   "outputs": [
    {
     "data": {
      "text/plain": [
       "Prix         0\n",
       "Date         0\n",
       "Km           0\n",
       "Energie      0\n",
       "Portes       0\n",
       "Puissance    0\n",
       "Places       0\n",
       "dtype: int64"
      ]
     },
     "execution_count": 13,
     "metadata": {},
     "output_type": "execute_result"
    }
   ],
   "source": [
    "df.isna().sum()\n"
   ]
  },
  {
   "cell_type": "code",
   "execution_count": 14,
   "id": "3054790b",
   "metadata": {
    "scrolled": true
   },
   "outputs": [
    {
     "data": {
      "text/html": [
       "<div>\n",
       "<style scoped>\n",
       "    .dataframe tbody tr th:only-of-type {\n",
       "        vertical-align: middle;\n",
       "    }\n",
       "\n",
       "    .dataframe tbody tr th {\n",
       "        vertical-align: top;\n",
       "    }\n",
       "\n",
       "    .dataframe thead th {\n",
       "        text-align: right;\n",
       "    }\n",
       "</style>\n",
       "<table border=\"1\" class=\"dataframe\">\n",
       "  <thead>\n",
       "    <tr style=\"text-align: right;\">\n",
       "      <th></th>\n",
       "      <th>Prix</th>\n",
       "      <th>Date</th>\n",
       "      <th>Km</th>\n",
       "      <th>Energie</th>\n",
       "      <th>Portes</th>\n",
       "      <th>Puissance</th>\n",
       "      <th>Places</th>\n",
       "    </tr>\n",
       "  </thead>\n",
       "  <tbody>\n",
       "    <tr>\n",
       "      <th>0</th>\n",
       "      <td>29500</td>\n",
       "      <td>Juillet 2019</td>\n",
       "      <td>24000.0</td>\n",
       "      <td>Diesel</td>\n",
       "      <td>4 portes avec hayon</td>\n",
       "      <td>8.0</td>\n",
       "      <td>5.0</td>\n",
       "    </tr>\n",
       "    <tr>\n",
       "      <th>1</th>\n",
       "      <td>2000</td>\n",
       "      <td>Janvier 1999</td>\n",
       "      <td>320000.0</td>\n",
       "      <td>Diesel</td>\n",
       "      <td>4 portes avec hayon</td>\n",
       "      <td>6.0</td>\n",
       "      <td>5.0</td>\n",
       "    </tr>\n",
       "    <tr>\n",
       "      <th>2</th>\n",
       "      <td>12000</td>\n",
       "      <td>Mars 1986</td>\n",
       "      <td>96700.0</td>\n",
       "      <td>Essence</td>\n",
       "      <td>4 portes</td>\n",
       "      <td>3.0</td>\n",
       "      <td>5.0</td>\n",
       "    </tr>\n",
       "    <tr>\n",
       "      <th>4</th>\n",
       "      <td>18100</td>\n",
       "      <td>Mars 2015</td>\n",
       "      <td>92600.0</td>\n",
       "      <td>Diesel</td>\n",
       "      <td>2 portes</td>\n",
       "      <td>8.0</td>\n",
       "      <td>4.0</td>\n",
       "    </tr>\n",
       "    <tr>\n",
       "      <th>5</th>\n",
       "      <td>4000</td>\n",
       "      <td>Avril 2008</td>\n",
       "      <td>173300.0</td>\n",
       "      <td>Diesel</td>\n",
       "      <td>4 portes avec hayon</td>\n",
       "      <td>8.0</td>\n",
       "      <td>5.0</td>\n",
       "    </tr>\n",
       "  </tbody>\n",
       "</table>\n",
       "</div>"
      ],
      "text/plain": [
       "    Prix          Date        Km  Energie               Portes  Puissance  \\\n",
       "0  29500  Juillet 2019   24000.0   Diesel  4 portes avec hayon        8.0   \n",
       "1   2000  Janvier 1999  320000.0   Diesel  4 portes avec hayon        6.0   \n",
       "2  12000     Mars 1986   96700.0  Essence             4 portes        3.0   \n",
       "4  18100     Mars 2015   92600.0   Diesel             2 portes        8.0   \n",
       "5   4000    Avril 2008  173300.0   Diesel  4 portes avec hayon        8.0   \n",
       "\n",
       "   Places  \n",
       "0     5.0  \n",
       "1     5.0  \n",
       "2     5.0  \n",
       "4     4.0  \n",
       "5     5.0  "
      ]
     },
     "execution_count": 14,
     "metadata": {},
     "output_type": "execute_result"
    }
   ],
   "source": [
    "df.head()"
   ]
  },
  {
   "cell_type": "code",
   "execution_count": 15,
   "id": "53f02abe",
   "metadata": {},
   "outputs": [
    {
     "data": {
      "text/plain": [
       "(482, 7)"
      ]
     },
     "execution_count": 15,
     "metadata": {},
     "output_type": "execute_result"
    }
   ],
   "source": [
    "df.shape"
   ]
  },
  {
   "cell_type": "markdown",
   "id": "bb1d096e",
   "metadata": {},
   "source": [
    "En supprimant les valeurs nulles j'ai perdu 15 lignes, ce qui n'impacte pas beaucoup mon jeu de données."
   ]
  },
  {
   "cell_type": "code",
   "execution_count": 16,
   "id": "0e524fb1",
   "metadata": {},
   "outputs": [
    {
     "name": "stdout",
     "output_type": "stream",
     "text": [
      "<class 'pandas.core.frame.DataFrame'>\n",
      "Int64Index: 482 entries, 0 to 494\n",
      "Data columns (total 7 columns):\n",
      " #   Column     Non-Null Count  Dtype  \n",
      "---  ------     --------------  -----  \n",
      " 0   Prix       482 non-null    int64  \n",
      " 1   Date       482 non-null    object \n",
      " 2   Km         482 non-null    float64\n",
      " 3   Energie    482 non-null    object \n",
      " 4   Portes     482 non-null    object \n",
      " 5   Puissance  482 non-null    float64\n",
      " 6   Places     482 non-null    float64\n",
      "dtypes: float64(3), int64(1), object(3)\n",
      "memory usage: 30.1+ KB\n"
     ]
    }
   ],
   "source": [
    "df.info()"
   ]
  },
  {
   "cell_type": "markdown",
   "id": "0b2d6d7a",
   "metadata": {},
   "source": [
    "J'ai bien mes colonnes en moins mais j'ai toujours besoin de transformer mes object en float pour ensuite standardiser."
   ]
  },
  {
   "cell_type": "markdown",
   "id": "7cca026a",
   "metadata": {},
   "source": [
    "Date: je dois garder seulement l'année et non pas le mois.\n",
    "Energie: encoder\n",
    "Portes: garder le chiffre et transformer en int"
   ]
  },
  {
   "cell_type": "code",
   "execution_count": 17,
   "id": "33a2d666",
   "metadata": {},
   "outputs": [],
   "source": [
    "#Transformation du prix en float\n",
    "df.Prix = df.Prix.astype('int64')"
   ]
  },
  {
   "cell_type": "code",
   "execution_count": 18,
   "id": "303da68c",
   "metadata": {},
   "outputs": [],
   "source": [
    "#Récupération de l'année dans Date donc transformation d'object en string\n",
    "df.Date = df.Date.astype('string')\n"
   ]
  },
  {
   "cell_type": "code",
   "execution_count": 19,
   "id": "ed901b30",
   "metadata": {
    "scrolled": true
   },
   "outputs": [
    {
     "name": "stdout",
     "output_type": "stream",
     "text": [
      "<class 'pandas.core.frame.DataFrame'>\n",
      "Int64Index: 482 entries, 0 to 494\n",
      "Data columns (total 7 columns):\n",
      " #   Column     Non-Null Count  Dtype  \n",
      "---  ------     --------------  -----  \n",
      " 0   Prix       482 non-null    int64  \n",
      " 1   Date       482 non-null    string \n",
      " 2   Km         482 non-null    float64\n",
      " 3   Energie    482 non-null    object \n",
      " 4   Portes     482 non-null    object \n",
      " 5   Puissance  482 non-null    float64\n",
      " 6   Places     482 non-null    float64\n",
      "dtypes: float64(3), int64(1), object(2), string(1)\n",
      "memory usage: 30.1+ KB\n"
     ]
    }
   ],
   "source": [
    "df.info()"
   ]
  },
  {
   "cell_type": "code",
   "execution_count": 20,
   "id": "9f87f928",
   "metadata": {
    "scrolled": true
   },
   "outputs": [
    {
     "data": {
      "text/plain": [
       "0        Juillet 2019\n",
       "1        Janvier 1999\n",
       "2           Mars 1986\n",
       "4           Mars 2015\n",
       "5          Avril 2008\n",
       "            ...      \n",
       "490     Décembre 2013\n",
       "491      Octobre 1991\n",
       "492         Août 2017\n",
       "493         Juin 2013\n",
       "494    Septembre 2021\n",
       "Name: Date, Length: 482, dtype: string"
      ]
     },
     "execution_count": 20,
     "metadata": {},
     "output_type": "execute_result"
    }
   ],
   "source": [
    "df.Date"
   ]
  },
  {
   "cell_type": "code",
   "execution_count": 21,
   "id": "e1d0db93",
   "metadata": {},
   "outputs": [],
   "source": [
    "df.Date=df.Date.str[-4:]"
   ]
  },
  {
   "cell_type": "code",
   "execution_count": 22,
   "id": "b62101ba",
   "metadata": {
    "scrolled": true
   },
   "outputs": [
    {
     "data": {
      "text/html": [
       "<div>\n",
       "<style scoped>\n",
       "    .dataframe tbody tr th:only-of-type {\n",
       "        vertical-align: middle;\n",
       "    }\n",
       "\n",
       "    .dataframe tbody tr th {\n",
       "        vertical-align: top;\n",
       "    }\n",
       "\n",
       "    .dataframe thead th {\n",
       "        text-align: right;\n",
       "    }\n",
       "</style>\n",
       "<table border=\"1\" class=\"dataframe\">\n",
       "  <thead>\n",
       "    <tr style=\"text-align: right;\">\n",
       "      <th></th>\n",
       "      <th>Prix</th>\n",
       "      <th>Date</th>\n",
       "      <th>Km</th>\n",
       "      <th>Energie</th>\n",
       "      <th>Portes</th>\n",
       "      <th>Puissance</th>\n",
       "      <th>Places</th>\n",
       "    </tr>\n",
       "  </thead>\n",
       "  <tbody>\n",
       "    <tr>\n",
       "      <th>0</th>\n",
       "      <td>29500</td>\n",
       "      <td>2019</td>\n",
       "      <td>24000.0</td>\n",
       "      <td>Diesel</td>\n",
       "      <td>4 portes avec hayon</td>\n",
       "      <td>8.0</td>\n",
       "      <td>5.0</td>\n",
       "    </tr>\n",
       "    <tr>\n",
       "      <th>1</th>\n",
       "      <td>2000</td>\n",
       "      <td>1999</td>\n",
       "      <td>320000.0</td>\n",
       "      <td>Diesel</td>\n",
       "      <td>4 portes avec hayon</td>\n",
       "      <td>6.0</td>\n",
       "      <td>5.0</td>\n",
       "    </tr>\n",
       "    <tr>\n",
       "      <th>2</th>\n",
       "      <td>12000</td>\n",
       "      <td>1986</td>\n",
       "      <td>96700.0</td>\n",
       "      <td>Essence</td>\n",
       "      <td>4 portes</td>\n",
       "      <td>3.0</td>\n",
       "      <td>5.0</td>\n",
       "    </tr>\n",
       "    <tr>\n",
       "      <th>4</th>\n",
       "      <td>18100</td>\n",
       "      <td>2015</td>\n",
       "      <td>92600.0</td>\n",
       "      <td>Diesel</td>\n",
       "      <td>2 portes</td>\n",
       "      <td>8.0</td>\n",
       "      <td>4.0</td>\n",
       "    </tr>\n",
       "    <tr>\n",
       "      <th>5</th>\n",
       "      <td>4000</td>\n",
       "      <td>2008</td>\n",
       "      <td>173300.0</td>\n",
       "      <td>Diesel</td>\n",
       "      <td>4 portes avec hayon</td>\n",
       "      <td>8.0</td>\n",
       "      <td>5.0</td>\n",
       "    </tr>\n",
       "    <tr>\n",
       "      <th>6</th>\n",
       "      <td>6800</td>\n",
       "      <td>2008</td>\n",
       "      <td>212500.0</td>\n",
       "      <td>Diesel</td>\n",
       "      <td>4 portes</td>\n",
       "      <td>9.0</td>\n",
       "      <td>5.0</td>\n",
       "    </tr>\n",
       "    <tr>\n",
       "      <th>7</th>\n",
       "      <td>3800</td>\n",
       "      <td>2009</td>\n",
       "      <td>115000.0</td>\n",
       "      <td>Diesel</td>\n",
       "      <td>4 portes avec hayon</td>\n",
       "      <td>4.0</td>\n",
       "      <td>5.0</td>\n",
       "    </tr>\n",
       "    <tr>\n",
       "      <th>8</th>\n",
       "      <td>19800</td>\n",
       "      <td>2021</td>\n",
       "      <td>2800.0</td>\n",
       "      <td>Essence</td>\n",
       "      <td>4 portes avec hayon</td>\n",
       "      <td>6.0</td>\n",
       "      <td>5.0</td>\n",
       "    </tr>\n",
       "    <tr>\n",
       "      <th>9</th>\n",
       "      <td>2450</td>\n",
       "      <td>2009</td>\n",
       "      <td>209200.0</td>\n",
       "      <td>Diesel</td>\n",
       "      <td>2 portes avec hayon</td>\n",
       "      <td>4.0</td>\n",
       "      <td>4.0</td>\n",
       "    </tr>\n",
       "    <tr>\n",
       "      <th>11</th>\n",
       "      <td>10500</td>\n",
       "      <td>2000</td>\n",
       "      <td>149000.0</td>\n",
       "      <td>Essence</td>\n",
       "      <td>2 portes avec hayon</td>\n",
       "      <td>11.0</td>\n",
       "      <td>4.0</td>\n",
       "    </tr>\n",
       "    <tr>\n",
       "      <th>12</th>\n",
       "      <td>9500</td>\n",
       "      <td>2017</td>\n",
       "      <td>48500.0</td>\n",
       "      <td>Essence</td>\n",
       "      <td>2 portes avec hayon</td>\n",
       "      <td>4.0</td>\n",
       "      <td>4.0</td>\n",
       "    </tr>\n",
       "    <tr>\n",
       "      <th>13</th>\n",
       "      <td>5500</td>\n",
       "      <td>2009</td>\n",
       "      <td>190500.0</td>\n",
       "      <td>Diesel</td>\n",
       "      <td>4 portes avec hayon</td>\n",
       "      <td>6.0</td>\n",
       "      <td>5.0</td>\n",
       "    </tr>\n",
       "    <tr>\n",
       "      <th>14</th>\n",
       "      <td>5200</td>\n",
       "      <td>2011</td>\n",
       "      <td>171200.0</td>\n",
       "      <td>Diesel</td>\n",
       "      <td>4 portes avec hayon</td>\n",
       "      <td>6.0</td>\n",
       "      <td>5.0</td>\n",
       "    </tr>\n",
       "    <tr>\n",
       "      <th>15</th>\n",
       "      <td>7000</td>\n",
       "      <td>1999</td>\n",
       "      <td>160000.0</td>\n",
       "      <td>Diesel</td>\n",
       "      <td>4 portes avec hayon</td>\n",
       "      <td>10.0</td>\n",
       "      <td>5.0</td>\n",
       "    </tr>\n",
       "    <tr>\n",
       "      <th>16</th>\n",
       "      <td>14500</td>\n",
       "      <td>2017</td>\n",
       "      <td>61500.0</td>\n",
       "      <td>Diesel</td>\n",
       "      <td>4 portes avec hayon</td>\n",
       "      <td>7.0</td>\n",
       "      <td>5.0</td>\n",
       "    </tr>\n",
       "    <tr>\n",
       "      <th>17</th>\n",
       "      <td>4900</td>\n",
       "      <td>1995</td>\n",
       "      <td>130000.0</td>\n",
       "      <td>Essence</td>\n",
       "      <td>2 portes avec hayon</td>\n",
       "      <td>6.0</td>\n",
       "      <td>5.0</td>\n",
       "    </tr>\n",
       "    <tr>\n",
       "      <th>18</th>\n",
       "      <td>14200</td>\n",
       "      <td>2017</td>\n",
       "      <td>43800.0</td>\n",
       "      <td>Essence</td>\n",
       "      <td>4 portes avec hayon</td>\n",
       "      <td>7.0</td>\n",
       "      <td>5.0</td>\n",
       "    </tr>\n",
       "    <tr>\n",
       "      <th>19</th>\n",
       "      <td>39500</td>\n",
       "      <td>2016</td>\n",
       "      <td>66000.0</td>\n",
       "      <td>Essence</td>\n",
       "      <td>4 portes</td>\n",
       "      <td>26.0</td>\n",
       "      <td>5.0</td>\n",
       "    </tr>\n",
       "    <tr>\n",
       "      <th>20</th>\n",
       "      <td>14900</td>\n",
       "      <td>2017</td>\n",
       "      <td>40600.0</td>\n",
       "      <td>Diesel</td>\n",
       "      <td>4 portes avec hayon</td>\n",
       "      <td>6.0</td>\n",
       "      <td>5.0</td>\n",
       "    </tr>\n",
       "    <tr>\n",
       "      <th>21</th>\n",
       "      <td>5990</td>\n",
       "      <td>2011</td>\n",
       "      <td>136100.0</td>\n",
       "      <td>Essence</td>\n",
       "      <td>2 portes avec hayon</td>\n",
       "      <td>4.0</td>\n",
       "      <td>5.0</td>\n",
       "    </tr>\n",
       "  </tbody>\n",
       "</table>\n",
       "</div>"
      ],
      "text/plain": [
       "     Prix  Date        Km  Energie               Portes  Puissance  Places\n",
       "0   29500  2019   24000.0   Diesel  4 portes avec hayon        8.0     5.0\n",
       "1    2000  1999  320000.0   Diesel  4 portes avec hayon        6.0     5.0\n",
       "2   12000  1986   96700.0  Essence             4 portes        3.0     5.0\n",
       "4   18100  2015   92600.0   Diesel             2 portes        8.0     4.0\n",
       "5    4000  2008  173300.0   Diesel  4 portes avec hayon        8.0     5.0\n",
       "6    6800  2008  212500.0   Diesel             4 portes        9.0     5.0\n",
       "7    3800  2009  115000.0   Diesel  4 portes avec hayon        4.0     5.0\n",
       "8   19800  2021    2800.0  Essence  4 portes avec hayon        6.0     5.0\n",
       "9    2450  2009  209200.0   Diesel  2 portes avec hayon        4.0     4.0\n",
       "11  10500  2000  149000.0  Essence  2 portes avec hayon       11.0     4.0\n",
       "12   9500  2017   48500.0  Essence  2 portes avec hayon        4.0     4.0\n",
       "13   5500  2009  190500.0   Diesel  4 portes avec hayon        6.0     5.0\n",
       "14   5200  2011  171200.0   Diesel  4 portes avec hayon        6.0     5.0\n",
       "15   7000  1999  160000.0   Diesel  4 portes avec hayon       10.0     5.0\n",
       "16  14500  2017   61500.0   Diesel  4 portes avec hayon        7.0     5.0\n",
       "17   4900  1995  130000.0  Essence  2 portes avec hayon        6.0     5.0\n",
       "18  14200  2017   43800.0  Essence  4 portes avec hayon        7.0     5.0\n",
       "19  39500  2016   66000.0  Essence             4 portes       26.0     5.0\n",
       "20  14900  2017   40600.0   Diesel  4 portes avec hayon        6.0     5.0\n",
       "21   5990  2011  136100.0  Essence  2 portes avec hayon        4.0     5.0"
      ]
     },
     "execution_count": 22,
     "metadata": {},
     "output_type": "execute_result"
    }
   ],
   "source": [
    "df.head(20)"
   ]
  },
  {
   "cell_type": "code",
   "execution_count": 23,
   "id": "ccf33928",
   "metadata": {},
   "outputs": [],
   "source": [
    "df.Date = df.Date.astype('int64')"
   ]
  },
  {
   "cell_type": "code",
   "execution_count": 24,
   "id": "c044f173",
   "metadata": {
    "scrolled": true
   },
   "outputs": [
    {
     "name": "stdout",
     "output_type": "stream",
     "text": [
      "<class 'pandas.core.frame.DataFrame'>\n",
      "Int64Index: 482 entries, 0 to 494\n",
      "Data columns (total 7 columns):\n",
      " #   Column     Non-Null Count  Dtype  \n",
      "---  ------     --------------  -----  \n",
      " 0   Prix       482 non-null    int64  \n",
      " 1   Date       482 non-null    int64  \n",
      " 2   Km         482 non-null    float64\n",
      " 3   Energie    482 non-null    object \n",
      " 4   Portes     482 non-null    object \n",
      " 5   Puissance  482 non-null    float64\n",
      " 6   Places     482 non-null    float64\n",
      "dtypes: float64(3), int64(2), object(2)\n",
      "memory usage: 30.1+ KB\n"
     ]
    }
   ],
   "source": [
    "df.info()"
   ]
  },
  {
   "cell_type": "code",
   "execution_count": 26,
   "id": "da9ce0b2",
   "metadata": {},
   "outputs": [],
   "source": [
    "#Je veux garder seulement le nombre de portes dans Portes et le transformer en integer\n",
    "#Je dois d'abord le transformer en string\n",
    "\n",
    "df.Portes = df.Portes.astype('string')\n"
   ]
  },
  {
   "cell_type": "code",
   "execution_count": 27,
   "id": "27b0badc",
   "metadata": {},
   "outputs": [],
   "source": [
    "df.Portes=df.Portes.str[0:1]"
   ]
  },
  {
   "cell_type": "code",
   "execution_count": 28,
   "id": "6e7edcdc",
   "metadata": {},
   "outputs": [
    {
     "data": {
      "text/plain": [
       "0      4\n",
       "1      4\n",
       "2      4\n",
       "4      2\n",
       "5      4\n",
       "      ..\n",
       "490    4\n",
       "491    4\n",
       "492    2\n",
       "493    4\n",
       "494    4\n",
       "Name: Portes, Length: 482, dtype: string"
      ]
     },
     "execution_count": 28,
     "metadata": {},
     "output_type": "execute_result"
    }
   ],
   "source": [
    "df.Portes"
   ]
  },
  {
   "cell_type": "code",
   "execution_count": 29,
   "id": "77db2a85",
   "metadata": {},
   "outputs": [],
   "source": [
    "#Je retransforme Portes en int\n",
    "\n",
    "df.Portes = df.Portes.astype('int64')"
   ]
  },
  {
   "cell_type": "code",
   "execution_count": 30,
   "id": "61dcbd77",
   "metadata": {},
   "outputs": [
    {
     "name": "stdout",
     "output_type": "stream",
     "text": [
      "<class 'pandas.core.frame.DataFrame'>\n",
      "Int64Index: 482 entries, 0 to 494\n",
      "Data columns (total 7 columns):\n",
      " #   Column     Non-Null Count  Dtype  \n",
      "---  ------     --------------  -----  \n",
      " 0   Prix       482 non-null    int64  \n",
      " 1   Date       482 non-null    int64  \n",
      " 2   Km         482 non-null    float64\n",
      " 3   Energie    482 non-null    object \n",
      " 4   Portes     482 non-null    int64  \n",
      " 5   Puissance  482 non-null    float64\n",
      " 6   Places     482 non-null    float64\n",
      "dtypes: float64(3), int64(3), object(1)\n",
      "memory usage: 30.1+ KB\n"
     ]
    }
   ],
   "source": [
    "df.info()"
   ]
  },
  {
   "cell_type": "markdown",
   "id": "e322cfd2",
   "metadata": {},
   "source": [
    "VI.ENCODAGE des variables catégoriques"
   ]
  },
  {
   "cell_type": "code",
   "execution_count": null,
   "id": "16a62dac",
   "metadata": {},
   "outputs": [],
   "source": []
  },
  {
   "cell_type": "code",
   "execution_count": 31,
   "id": "11f098ef",
   "metadata": {},
   "outputs": [
    {
     "data": {
      "text/plain": [
       "Diesel        0.520747\n",
       "Essence       0.443983\n",
       "Hybride       0.024896\n",
       "Autres        0.006224\n",
       "GPL ou GNL    0.004149\n",
       "Name: Energie, dtype: float64"
      ]
     },
     "execution_count": 31,
     "metadata": {},
     "output_type": "execute_result"
    }
   ],
   "source": [
    "#Je dois encoder Energie\n",
    "#Je vais d'abord vérifier combien de valeurs distinctes cette colonne comporte\n",
    "\n",
    "df['Energie'].value_counts(normalize=True)"
   ]
  },
  {
   "cell_type": "code",
   "execution_count": 32,
   "id": "65d4d062",
   "metadata": {},
   "outputs": [],
   "source": [
    "#Je choisis labelencoder car j'ai plus de deux valeurs\n",
    "\n",
    "from sklearn import preprocessing\n",
    "from sklearn.preprocessing import LabelEncoder\n",
    "label = preprocessing.LabelEncoder() \n",
    " \n",
    "df['Energie']= label.fit_transform(df['Energie']) "
   ]
  },
  {
   "cell_type": "code",
   "execution_count": 33,
   "id": "728190a2",
   "metadata": {
    "scrolled": true
   },
   "outputs": [
    {
     "data": {
      "text/html": [
       "<div>\n",
       "<style scoped>\n",
       "    .dataframe tbody tr th:only-of-type {\n",
       "        vertical-align: middle;\n",
       "    }\n",
       "\n",
       "    .dataframe tbody tr th {\n",
       "        vertical-align: top;\n",
       "    }\n",
       "\n",
       "    .dataframe thead th {\n",
       "        text-align: right;\n",
       "    }\n",
       "</style>\n",
       "<table border=\"1\" class=\"dataframe\">\n",
       "  <thead>\n",
       "    <tr style=\"text-align: right;\">\n",
       "      <th></th>\n",
       "      <th>Prix</th>\n",
       "      <th>Date</th>\n",
       "      <th>Km</th>\n",
       "      <th>Energie</th>\n",
       "      <th>Portes</th>\n",
       "      <th>Puissance</th>\n",
       "      <th>Places</th>\n",
       "    </tr>\n",
       "  </thead>\n",
       "  <tbody>\n",
       "    <tr>\n",
       "      <th>0</th>\n",
       "      <td>29500</td>\n",
       "      <td>2019</td>\n",
       "      <td>24000.0</td>\n",
       "      <td>1</td>\n",
       "      <td>4</td>\n",
       "      <td>8.0</td>\n",
       "      <td>5.0</td>\n",
       "    </tr>\n",
       "    <tr>\n",
       "      <th>1</th>\n",
       "      <td>2000</td>\n",
       "      <td>1999</td>\n",
       "      <td>320000.0</td>\n",
       "      <td>1</td>\n",
       "      <td>4</td>\n",
       "      <td>6.0</td>\n",
       "      <td>5.0</td>\n",
       "    </tr>\n",
       "    <tr>\n",
       "      <th>2</th>\n",
       "      <td>12000</td>\n",
       "      <td>1986</td>\n",
       "      <td>96700.0</td>\n",
       "      <td>2</td>\n",
       "      <td>4</td>\n",
       "      <td>3.0</td>\n",
       "      <td>5.0</td>\n",
       "    </tr>\n",
       "    <tr>\n",
       "      <th>4</th>\n",
       "      <td>18100</td>\n",
       "      <td>2015</td>\n",
       "      <td>92600.0</td>\n",
       "      <td>1</td>\n",
       "      <td>2</td>\n",
       "      <td>8.0</td>\n",
       "      <td>4.0</td>\n",
       "    </tr>\n",
       "    <tr>\n",
       "      <th>5</th>\n",
       "      <td>4000</td>\n",
       "      <td>2008</td>\n",
       "      <td>173300.0</td>\n",
       "      <td>1</td>\n",
       "      <td>4</td>\n",
       "      <td>8.0</td>\n",
       "      <td>5.0</td>\n",
       "    </tr>\n",
       "  </tbody>\n",
       "</table>\n",
       "</div>"
      ],
      "text/plain": [
       "    Prix  Date        Km  Energie  Portes  Puissance  Places\n",
       "0  29500  2019   24000.0        1       4        8.0     5.0\n",
       "1   2000  1999  320000.0        1       4        6.0     5.0\n",
       "2  12000  1986   96700.0        2       4        3.0     5.0\n",
       "4  18100  2015   92600.0        1       2        8.0     4.0\n",
       "5   4000  2008  173300.0        1       4        8.0     5.0"
      ]
     },
     "execution_count": 33,
     "metadata": {},
     "output_type": "execute_result"
    }
   ],
   "source": [
    "df.head()"
   ]
  },
  {
   "cell_type": "code",
   "execution_count": 34,
   "id": "fa274157",
   "metadata": {},
   "outputs": [
    {
     "name": "stdout",
     "output_type": "stream",
     "text": [
      "<class 'pandas.core.frame.DataFrame'>\n",
      "Int64Index: 482 entries, 0 to 494\n",
      "Data columns (total 7 columns):\n",
      " #   Column     Non-Null Count  Dtype  \n",
      "---  ------     --------------  -----  \n",
      " 0   Prix       482 non-null    int64  \n",
      " 1   Date       482 non-null    int64  \n",
      " 2   Km         482 non-null    float64\n",
      " 3   Energie    482 non-null    int32  \n",
      " 4   Portes     482 non-null    int64  \n",
      " 5   Puissance  482 non-null    float64\n",
      " 6   Places     482 non-null    float64\n",
      "dtypes: float64(3), int32(1), int64(3)\n",
      "memory usage: 28.2 KB\n"
     ]
    }
   ],
   "source": [
    "df.info()"
   ]
  },
  {
   "cell_type": "code",
   "execution_count": 41,
   "id": "8d662e7d",
   "metadata": {},
   "outputs": [
    {
     "data": {
      "image/png": "[encoded data removed]",
      "text/plain": [
       "<Figure size 432x288 with 2 Axes>"
      ]
     },
     "metadata": {
      "needs_background": "light"
     },
     "output_type": "display_data"
    }
   ],
   "source": [
    "from seaborn import heatmap\n",
    "correlation_mat = df.corr()\n",
    "\n",
    "sns.heatmap(correlation_mat, annot = True)\n",
    "\n",
    "plt.show()"
   ]
  },
  {
   "cell_type": "markdown",
   "id": "3d712931",
   "metadata": {},
   "source": [
    "IX.VISUALISATION DES DONNEES (et non pas du modèle)"
   ]
  },
  {
   "cell_type": "code",
   "execution_count": 42,
   "id": "d5b8e463",
   "metadata": {},
   "outputs": [
    {
     "name": "stderr",
     "output_type": "stream",
     "text": [
      "No handles with labels found to put in legend.\n"
     ]
    },
    {
     "data": {
      "image/png": "[encoded data removed]",
      "text/plain": [
       "<Figure size 1440x1440 with 9 Axes>"
      ]
     },
     "metadata": {
      "needs_background": "light"
     },
     "output_type": "display_data"
    }
   ],
   "source": [
    "#tous les histo d'un coup\n",
    "df.hist(figsize=(20,20))\n",
    "plt.legend()\n",
    "plt.show()"
   ]
  },
  {
   "cell_type": "code",
   "execution_count": 43,
   "id": "7bad0955",
   "metadata": {},
   "outputs": [
    {
     "data": {
      "text/plain": [
       "<seaborn.axisgrid.PairGrid at 0x1f0a83eea60>"
      ]
     },
     "execution_count": 43,
     "metadata": {},
     "output_type": "execute_result"
    },
    {
     "data": {
      "image/png": "[encoded data removed]",
      "text/plain": [
       "<Figure size 1260x1260 with 56 Axes>"
      ]
     },
     "metadata": {
      "needs_background": "light"
     },
     "output_type": "display_data"
    }
   ],
   "source": [
    "#ou Nous utilisons ici un pairplot pour avoir une première idée des relations possibles entre les données et\n",
    "# leurs distributions\n",
    "\n",
    "sns.pairplot(df, kind='reg', diag_kind='kde')"
   ]
  },
  {
   "cell_type": "code",
   "execution_count": 44,
   "id": "69071fad",
   "metadata": {},
   "outputs": [],
   "source": [
    "#Je décide de garder seulement les features date, km et puissance\n",
    "df=df[['Prix','Date','Km','Puissance']]"
   ]
  },
  {
   "cell_type": "markdown",
   "id": "f0d88af1",
   "metadata": {},
   "source": [
    "X.DEFINIR ses variables"
   ]
  },
  {
   "cell_type": "code",
   "execution_count": 45,
   "id": "6487bdc3",
   "metadata": {},
   "outputs": [],
   "source": [
    "#dépendantes/indépendantes\n",
    "\n",
    "#iloc permet de localiser sans pour autant effacer comme avec un drop et le -1 à la fin enlève la dernière colonne qui est celle de target pour la régression logistique.\n",
    "X=df.iloc[:,1:]\n",
    "y=df.iloc[:,0]\n",
    "\n"
   ]
  },
  {
   "cell_type": "markdown",
   "id": "c9b6aeae",
   "metadata": {},
   "source": [
    "XI.ENTRAINEMENT"
   ]
  },
  {
   "cell_type": "code",
   "execution_count": 47,
   "id": "8642d1ac",
   "metadata": {},
   "outputs": [],
   "source": [
    "#SPLIT le dataset en données de TRAINING et de TESTING. Nous allons d'abord utiliser celles de training.\n",
    "# importer la méthode train_test_split \n",
    "#le paramètre stratify permet d'obtenir un échantillon représentatif quand une classe a plus de poids qu'une autre\n",
    "from sklearn.model_selection import train_test_split\n",
    "X_train, X_test, y_train, y_test = train_test_split(X,y,test_size=0.3,random_state=0)"
   ]
  },
  {
   "cell_type": "markdown",
   "id": "78fac48d",
   "metadata": {},
   "source": [
    "Pour la technique de la backward elimination et des moindres carrés http://localhost:8888/notebooks/Desktop/BRIEFS%20Simplonline/Brief%208%20Licorne/correction_licorne_regression_lineaire.ipynb"
   ]
  },
  {
   "cell_type": "code",
   "execution_count": 49,
   "id": "ae1ff2ba",
   "metadata": {},
   "outputs": [
    {
     "data": {
      "text/plain": [
       "((337,), (145,))"
      ]
     },
     "execution_count": 49,
     "metadata": {},
     "output_type": "execute_result"
    }
   ],
   "source": [
    "#vérification des dimensions\n",
    "y_train.shape , y_test.shape"
   ]
  },
  {
   "cell_type": "code",
   "execution_count": 50,
   "id": "bbbde412",
   "metadata": {},
   "outputs": [],
   "source": [
    "#Technique de cross_validation\n",
    "##Choisir dans le random state le même nombre que lors du split\n",
    "from sklearn.model_selection import KFold\n",
    "cv_sets = KFold(n_splits=10, shuffle=True, random_state=42)"
   ]
  },
  {
   "cell_type": "markdown",
   "id": "c66327e2",
   "metadata": {},
   "source": [
    "XII.CREATION du modèle"
   ]
  },
  {
   "cell_type": "markdown",
   "id": "372e8599",
   "metadata": {},
   "source": [
    ">ARBRE DE DECISION REGRESSION"
   ]
  },
  {
   "cell_type": "code",
   "execution_count": 51,
   "id": "94b0f511",
   "metadata": {},
   "outputs": [],
   "source": [
    "from sklearn.tree import DecisionTreeRegressor\n",
    "dtr=DecisionTreeRegressor(random_state=42)"
   ]
  },
  {
   "cell_type": "markdown",
   "id": "789b9b8c",
   "metadata": {},
   "source": [
    "XIII.ENTRAINEMENT"
   ]
  },
  {
   "cell_type": "code",
   "execution_count": 52,
   "id": "21baac77",
   "metadata": {},
   "outputs": [
    {
     "data": {
      "text/plain": [
       "DecisionTreeRegressor(random_state=42)"
      ]
     },
     "execution_count": 52,
     "metadata": {},
     "output_type": "execute_result"
    }
   ],
   "source": [
    "#remplacer \"classifier\" par le nom de notre modèle\n",
    "dtr.fit(X_train,y_train)"
   ]
  },
  {
   "cell_type": "markdown",
   "id": "932f9fd9",
   "metadata": {},
   "source": [
    "Gridsearch"
   ]
  },
  {
   "cell_type": "code",
   "execution_count": null,
   "id": "8c5ef28b",
   "metadata": {},
   "outputs": [],
   "source": [
    "#Optimisation du paramètre max_depth\n",
    "# Pour trouver la valeur du paramètre max_depth qui donne le meilleur estimateur (meilleur arbre de régression), on utilise la classe GridSearchCV\n",
    "params = dict(max_depth=range(1,10))\n",
    "from sklearn.model_selection import GridSearchCV\n",
    "grid_cv = GridSearchCV(classifier, params, cv=cv_sets, scoring='accuracy')\n",
    "grid_cv.fit(X_train,y_train)"
   ]
  },
  {
   "cell_type": "code",
   "execution_count": null,
   "id": "7b5d5b6e",
   "metadata": {},
   "outputs": [],
   "source": [
    "#stocker le meilleur modèle grace à l'attribut best estimator\n",
    "best_tree = grid_cv.best_estimator_\n",
    "best_tree"
   ]
  },
  {
   "cell_type": "code",
   "execution_count": null,
   "id": "7e2d3680",
   "metadata": {},
   "outputs": [],
   "source": [
    "#profondeur maximale (*max_depth*) du modèle optimal (best_tree) \n",
    "best_params = grid_cv.best_params_\n",
    "best_params\n",
    "y_pred=best_tree.predict(X_test)"
   ]
  },
  {
   "cell_type": "code",
   "execution_count": null,
   "id": "8b40c22e",
   "metadata": {},
   "outputs": [],
   "source": [
    "XIV.PREDICTION"
   ]
  },
  {
   "cell_type": "code",
   "execution_count": null,
   "id": "9bc5f6c6",
   "metadata": {},
   "outputs": [],
   "source": [
    "##Prédire résultats du train set (ex. avec la régression)\n",
    "\n",
    "# calcul des probabilités d'affectation\n",
    "proba_01 = classifier_std.predict_proba(X1_train)"
   ]
  },
  {
   "cell_type": "code",
   "execution_count": null,
   "id": "ab9cb28e",
   "metadata": {},
   "outputs": [],
   "source": [
    "# on affiche les 5 premières valeurs prédites\n",
    "proba_01[:5,:]"
   ]
  },
  {
   "cell_type": "code",
   "execution_count": null,
   "id": "db750a0b",
   "metadata": {},
   "outputs": [],
   "source": [
    "#et on les compare aux valeurs attendues\n",
    "print(pd.DataFrame({\"Y=0\":proba_01[:,0],\"Y=1\": proba_01[:,1], \"valeur attendue\":y_train}))"
   ]
  },
  {
   "cell_type": "code",
   "execution_count": null,
   "id": "80f10b36",
   "metadata": {},
   "outputs": [],
   "source": [
    "##Prédire résultats du test set\n",
    "\n",
    "#affichez les probabilités de prédiction\n",
    "y_pred_stat = res.predict(X_testBis)\n",
    "print(y_pred_stat)"
   ]
  },
  {
   "cell_type": "code",
   "execution_count": null,
   "id": "30779182",
   "metadata": {},
   "outputs": [],
   "source": [
    "#utilisez les pour afficher les valeurs de y en ayant établi un seuil à 0.5\n",
    "y_pred_stat2 = (res.predict(X_testBis)>= 0.5).astype(int)\n",
    "print(y_pred_stat)"
   ]
  },
  {
   "cell_type": "code",
   "execution_count": null,
   "id": "72e86e51",
   "metadata": {},
   "outputs": [],
   "source": [
    "#Prédire si la tumeur est maligne des données de test *X_test* en utilisant le modèle entraîné précédemment et la méthode *predict* de la classe *DecisionTreeClassifier* avec comme paramètre (ce qui est entre parenthèses) les données de test.Stocker le résultat de la prédiction dans la variable y_pred.\n",
    "\n",
    "y_pred = classifier.predict(X_test)\n",
    "y_pred.shape"
   ]
  },
  {
   "cell_type": "code",
   "execution_count": null,
   "id": "96a7c462",
   "metadata": {},
   "outputs": [],
   "source": [
    "# Pour une meilleure lisibilité, on stocke la comparaison entre les valeurs actuelles et les predictions \n",
    "# dans une nouvelle df que l'on nomme df5\n",
    "\n",
    "df5 = pd.DataFrame({'Actual': y_test.flatten(), 'Predicted': y_pred.flatten()}) \n",
    "#.flatten = méthode numpy qui renvoie une copie du tableau réduit en une seule dimension.\n",
    "df5"
   ]
  },
  {
   "cell_type": "code",
   "execution_count": null,
   "id": "97cb236e",
   "metadata": {},
   "outputs": [],
   "source": [
    "# Création d'un graph pour visualiser la comparaison \"valeurs actuelles\" / \"predictions\"\n",
    "\n",
    "df6 = df5.head(11)\n",
    "df6.plot(kind='bar',figsize=(14,8))\n",
    "plt.grid(which='major', linestyle='-', linewidth='0.5', color='grey')\n",
    "plt.grid(which='minor', linestyle=':', linewidth='0.5', color='black')\n",
    "plt.show();"
   ]
  },
  {
   "cell_type": "code",
   "execution_count": null,
   "id": "7c652edc",
   "metadata": {},
   "outputs": [],
   "source": [
    "#tester ma prédiction\n",
    "\n",
    "lm.predict([[165349.20,136897.80,471784.10,1.0]])"
   ]
  },
  {
   "cell_type": "code",
   "execution_count": null,
   "id": "1ef3de21",
   "metadata": {},
   "outputs": [],
   "source": [
    "a = 100000\n",
    "b = 100\n",
    "c = 200000\n",
    "d = 200\n",
    "print(\"En mettant \", a , \" dans R&D et \", b, \" dans Marketing, le profit modélisé est de \", model.predict([[a, b]])) \n",
    "# R&D en premier, Marketing en second\n",
    "print(\"En mettant \", b , \" dans R&D et \", a, \" dans Marketing, le profit modélisé est de \", model.predict([[b, a]])) \n",
    "# R&D en premier, Marketing en second\n",
    "print(\"En mettant \", c , \" dans R&D et \", d, \" dans Marketing, le profit modélisé est de \", model.predict([[c, d]]))\n",
    "print(\"En mettant \", d , \" dans R&D et \", c, \" dans Marketing, le profit modélisé est de \", model.predict([[d, c]]))"
   ]
  },
  {
   "cell_type": "markdown",
   "id": "66a6b07d",
   "metadata": {},
   "source": [
    "XV.VISUALISATION du modèle"
   ]
  },
  {
   "cell_type": "markdown",
   "id": "54147510",
   "metadata": {},
   "source": [
    ">ARBRE DE DECISION"
   ]
  },
  {
   "cell_type": "code",
   "execution_count": null,
   "id": "90ee94a5",
   "metadata": {},
   "outputs": [],
   "source": [
    "from sklearn import tree\n",
    "tree.plot_tree(classifier)"
   ]
  },
  {
   "cell_type": "markdown",
   "id": "bc75e695",
   "metadata": {},
   "source": [
    "Overfitting"
   ]
  },
  {
   "cell_type": "code",
   "execution_count": null,
   "id": "5837588a",
   "metadata": {},
   "outputs": [],
   "source": [
    "# créer le modèle d'arbre de décision \n",
    "# avec le paramètre max_depth = 3\n",
    "# le but est de ne pas laisser l'arbre se développer et sur-apprendre \n",
    "classifier = DecisionTreeClassifier(max_depth=3)\n",
    "# notre modèle est stocké dans la variable classifier (l'ancier classifier est donc écrasé)\n",
    "\n",
    "# entraîner le classifier de nouveau\n",
    "classifier.fit(X_train,y_train)"
   ]
  },
  {
   "cell_type": "code",
   "execution_count": null,
   "id": "4b11e9ce",
   "metadata": {},
   "outputs": [],
   "source": [
    "#trouver le seuil de décision d'un arbre de décision\n",
    "from sklearn.tree import export_text, plot_tree\n",
    "decision_tree_text = export_text(classifier, feature_names=list(X_train.columns))\n",
    "print(decision_tree_text)"
   ]
  },
  {
   "cell_type": "code",
   "execution_count": null,
   "id": "034a15e0",
   "metadata": {},
   "outputs": [],
   "source": [
    "XVI.EVALUATION"
   ]
  },
  {
   "cell_type": "markdown",
   "id": "8a629dea",
   "metadata": {},
   "source": [
    "Classification report"
   ]
  },
  {
   "cell_type": "code",
   "execution_count": null,
   "id": "8262a11f",
   "metadata": {},
   "outputs": [],
   "source": [
    "from sklearn.metrics import classification_report\n",
    "print(classification_report(y_test, y_pred))"
   ]
  },
  {
   "cell_type": "markdown",
   "id": "586e2911",
   "metadata": {},
   "source": [
    "Matrice de confusion"
   ]
  },
  {
   "cell_type": "code",
   "execution_count": null,
   "id": "97365125",
   "metadata": {},
   "outputs": [],
   "source": [
    "disp = metrics.plot_confusion_matrix(classifier,X_test, y_test)\n",
    "disp.figure_.suptitle(\"Confusion Matrix\")\n",
    "print(f\"Confusion matrix:\\n{disp.confusion_matrix}\")\n",
    "\n",
    "plt.show()"
   ]
  },
  {
   "cell_type": "code",
   "execution_count": null,
   "id": "09c9c497",
   "metadata": {},
   "outputs": [],
   "source": [
    "matrice_conf = pd.crosstab(y_test, y_pred_stat2)\n",
    "print(matrice_conf)"
   ]
  },
  {
   "cell_type": "markdown",
   "id": "8c6da86f",
   "metadata": {},
   "source": [
    "Taux de reconnaissance et taux d'erreur"
   ]
  },
  {
   "cell_type": "code",
   "execution_count": null,
   "id": "3693ca5c",
   "metadata": {},
   "outputs": [],
   "source": [
    "#calculez également le taux de reconnaissance et le taux d'erreur  : (taux d'erreur = 1- taux de reconnaissance)\n",
    "matrice_val = matrice_conf.values\n",
    "accSm = np.sum(np.diagonal(matrice_val))/np.sum(matrice_val)\n",
    "print(\"Taux de reconnaissance :\",accSm)\n",
    "#taux d'erreur\n",
    "errSm = 1.0 - accSm\n",
    "print(\"Taux d'erreur' : \", errSm)"
   ]
  },
  {
   "cell_type": "markdown",
   "id": "a45d1f02",
   "metadata": {},
   "source": [
    "Courbe ROC"
   ]
  },
  {
   "cell_type": "code",
   "execution_count": null,
   "id": "77edd082",
   "metadata": {},
   "outputs": [],
   "source": [
    "metrics.plot_roc_curve(classifier, X_test, y_test) "
   ]
  },
  {
   "cell_type": "markdown",
   "id": "845907fe",
   "metadata": {},
   "source": [
    "Courbe d'apprentissage"
   ]
  },
  {
   "cell_type": "code",
   "execution_count": null,
   "id": "ceeaadb0",
   "metadata": {},
   "outputs": [],
   "source": [
    "skplt.estimators.plot_learning_curve(classifier, X_train, y_train, figsize=(8,6))   \n",
    "plt.title('Learning Curve')\n",
    "plt.show()"
   ]
  },
  {
   "cell_type": "code",
   "execution_count": null,
   "id": "30ad4dad",
   "metadata": {},
   "outputs": [],
   "source": [
    "# Quelques paramètres pour vérifier correctement notre modèle \n",
    "\n",
    "print('Erreur absolue moyenne:', metrics.mean_absolute_error(y_test, y_pred))  \n",
    "print('Erreur quadratique moyenne:', metrics.mean_squared_error(y_test, y_pred))  \n",
    "print('Erreur quadratique moyenne au carré:', np.sqrt(metrics.mean_squared_error(y_test, y_pred)))"
   ]
  },
  {
   "cell_type": "markdown",
   "id": "d6de8602",
   "metadata": {},
   "source": [
    "XVII.Sauvegarder mon modèle en fichier"
   ]
  },
  {
   "cell_type": "code",
   "execution_count": null,
   "id": "4f788b13",
   "metadata": {},
   "outputs": [],
   "source": [
    "##Avec Python et Pickle\n",
    "\n",
    "import pickle\n",
    "with open('model_pickle','wb') as file:\n",
    "    pickle.dump(model,file)\n",
    "#Load Saved Model\n",
    "with open('model_pickle','rb') as file:\n",
    "    mp = pickle.load(file)\n"
   ]
  },
  {
   "cell_type": "code",
   "execution_count": null,
   "id": "31fdc8fb",
   "metadata": {},
   "outputs": [],
   "source": [
    "##Avec sklearn et joblib\n",
    "\n",
    "from sklearn.externals import joblib\n",
    "joblib.dump(model, 'model_joblib')\n",
    "['model_joblib']\n",
    "#Load Saved Model\n",
    "mj = joblib.load('model_joblib')"
   ]
  },
  {
   "cell_type": "code",
   "execution_count": null,
   "id": "21cf2e35",
   "metadata": {},
   "outputs": [],
   "source": []
  }
 ],
 "metadata": {
  "kernelspec": {
   "display_name": "Python 3 (ipykernel)",
   "language": "python",
   "name": "python3"
  },
  "language_info": {
   "codemirror_mode": {
    "name": "ipython",
    "version": 3
   },
   "file_extension": ".py",
   "mimetype": "text/x-python",
   "name": "python",
   "nbconvert_exporter": "python",
   "pygments_lexer": "ipython3",
   "version": "3.9.7"
  }
 },
 "nbformat": 4,
 "nbformat_minor": 5
}
